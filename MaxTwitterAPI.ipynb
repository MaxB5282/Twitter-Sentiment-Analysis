{
 "cells": [
  {
   "cell_type": "code",
   "execution_count": 1,
   "id": "5e1dac85",
   "metadata": {},
   "outputs": [],
   "source": [
    "import tweepy"
   ]
  },
  {
   "cell_type": "markdown",
   "id": "61d199e3",
   "metadata": {},
   "source": [
    "# Personal Keys needed to access Twitter API"
   ]
  },
  {
   "cell_type": "code",
   "execution_count": 2,
   "id": "4a90b761",
   "metadata": {},
   "outputs": [],
   "source": [
    "consumer_key = '9g7ZRoL31dISnGlCNopfEysOq'\n",
    "consumer_secret = 'zrCf3NHJ0SHEVuP2asFosjAKRGm7HdebkZgTNbtiSRR5k389nG'\n",
    "access_token = '14093270-yMNg3eDdghzcQ70kXtIfdTTEK2dIpRblHlyEyom0N'\n",
    "access_token_secret = 'MvE74KZBKSUpWRcZo04AY17hcv73sQpQmtkoED1RD1Up6'"
   ]
  },
  {
   "cell_type": "markdown",
   "id": "6f963b3b",
   "metadata": {},
   "source": [
    "# Setting up the API"
   ]
  },
  {
   "cell_type": "code",
   "execution_count": 3,
   "id": "7d95102f",
   "metadata": {},
   "outputs": [],
   "source": [
    "auth = tweepy.OAuthHandler(consumer_key,\n",
    "                           consumer_secret)\n",
    "auth.set_access_token(access_token,\n",
    "                      access_token_secret) \n"
   ]
  },
  {
   "cell_type": "code",
   "execution_count": 4,
   "id": "e64da9f3",
   "metadata": {},
   "outputs": [],
   "source": [
    "api = tweepy.API(auth, wait_on_rate_limit=True, wait_on_rate_limit_notify=True)"
   ]
  },
  {
   "cell_type": "markdown",
   "id": "46571fdb",
   "metadata": {},
   "source": [
    "# Searching for tweets using the hashtag Roe vs Wade"
   ]
  },
  {
   "cell_type": "code",
   "execution_count": 5,
   "id": "fb6ddb42",
   "metadata": {},
   "outputs": [],
   "source": [
    "tweets = api.search(q='#roevswade',count=10000)"
   ]
  },
  {
   "cell_type": "code",
   "execution_count": 6,
   "id": "d1bc4084",
   "metadata": {
    "scrolled": true
   },
   "outputs": [
    {
     "name": "stdout",
     "output_type": "stream",
     "text": [
      "Foreverlouisia1: RT @VegasVisions: Pssst. Ladies. Protesting not your cup of tea? Kick up your heels 👠 Relax. Learn from Iceland. #RoeVWade #RoeVWadeprotest…\n",
      "\n",
      "qerese: RT @Corinna27049848: Participate in the Mother's Day Strike this week, as much as you're able to. No work. No unpaid labor. No shopping. No…\n",
      "\n",
      "NaatoshiS: RT @VegasVisions: Pssst. Ladies. Protesting not your cup of tea? Kick up your heels 👠 Relax. Learn from Iceland. #RoeVWade #RoeVWadeprotest…\n",
      "\n",
      "NewsJunkie60: RT @VegasVisions: Pssst. Ladies. Protesting not your cup of tea? Kick up your heels 👠 Relax. Learn from Iceland. #RoeVWade #RoeVWadeprotest…\n",
      "\n",
      "LadyD85183160: RT @VegasVisions: Pssst. Ladies. Protesting not your cup of tea? Kick up your heels 👠 Relax. Learn from Iceland. #RoeVWade #RoeVWadeprotest…\n",
      "\n",
      "abigailgordon21: RT @stephpcrogers: My choice MY Body #RoeVsWade #RoeVWadeprotest #MyBodyMyChoice #MyBodyMyRights #WomensRights https://t.co/4LTAnmI79A\n",
      "\n",
      "lertsema: RT @PlanBianca: No matter what men think, abortion is a fact of life. Women have always had them; they always have and they always will. Ar…\n",
      "\n",
      "wonderer9: RT @stephpcrogers: My choice MY Body #RoeVsWade #RoeVWadeprotest #MyBodyMyChoice #MyBodyMyRights #WomensRights https://t.co/4LTAnmI79A\n",
      "\n",
      "jl_kinnear: RT @VegasVisions: Pssst. Ladies. Protesting not your cup of tea? Kick up your heels 👠 Relax. Learn from Iceland. #RoeVWade #RoeVWadeprotest…\n",
      "\n",
      "NewsJunkie60: RT @AliciaSmith987: Rich people &amp; politicians will still be able to get get abortions when ever they want them... \n",
      "\n",
      "That's not who conserva…\n",
      "\n",
      "Honey_Briiiii: RT @Christcucks2: Pastor says bible upholds abortion\n",
      "#RoeVWade #scotus #abortion #WomensRights #RoeVsWade #ReproductiveRights #RoeVWadeprot…\n",
      "\n",
      "Clutch__Powers: RT @stephpcrogers: My choice MY Body #RoeVsWade #RoeVWadeprotest #MyBodyMyChoice #MyBodyMyRights #WomensRights https://t.co/4LTAnmI79A\n",
      "\n",
      "RickFreedland: RT @SadieMaeTN: 🔹Amy Coney Barrett &amp; Samuel Alito references adoption as a reason for overturning #RoeVsWade, using the phrase “domestic su…\n",
      "\n",
      "tutulle1: RT @EdgyLsx: Quand il s'agit de l' #ivermectine pour cheval dans le cadre du #COVID19, on ne peut pas en prendre.\n",
      "Quand il s'agit du mispro…\n",
      "\n",
      "MaJoad5: RT @AliciaSmith987: Rich people &amp; politicians will still be able to get get abortions when ever they want them... \n",
      "\n",
      "That's not who conserva…\n",
      "\n",
      "jp_dutch: The fall out of #SCOTUS's leaked decision to strike down #RoeVsWade &amp; #PlannedParenthood vs. Casey:\n",
      "#JohnRoberts ca… https://t.co/7OfQ0Xor8s\n",
      "\n",
      "sampuzzo1: RT @VegasVisions: Pssst. Ladies. Protesting not your cup of tea? Kick up your heels 👠 Relax. Learn from Iceland. #RoeVWade #RoeVWadeprotest…\n",
      "\n",
      "coccodrillo21: RT @AliciaSmith987: Rich people &amp; politicians will still be able to get get abortions when ever they want them... \n",
      "\n",
      "That's not who conserva…\n",
      "\n",
      "NewsJunkie60: RT @PlanBianca: No matter what men think, abortion is a fact of life. Women have always had them; they always have and they always will. Ar…\n",
      "\n",
      "shardillon: RT @VegasVisions: Pssst. Ladies. Protesting not your cup of tea? Kick up your heels 👠 Relax. Learn from Iceland. #RoeVWade #RoeVWadeprotest…\n",
      "\n",
      "2903DOT02_50: RT @MsEntropy: Groypers aren’t just taunting women at #RoeVWadeprotest here. \n",
      "\n",
      "Rape / pregnancy / birth is a tool of war and political goal…\n",
      "\n",
      "snbatman: RT @AnnaToccara: Being infertile doesn’t give a person a right to someone else’s child. I know some might think it does but it doesn’t. Thi…\n",
      "\n",
      "march4progress: RT @march4progress: Workers should always be in the streets. #GeneralStrike #RoeVsWade #GeneralStrikeForReproductiveRights https://t.co/9pP…\n",
      "\n",
      "rci001: RT @SadieMaeTN: 🔹Amy Coney Barrett &amp; Samuel Alito references adoption as a reason for overturning #RoeVsWade, using the phrase “domestic su…\n",
      "\n",
      "kmeeo: RT @AliciaSmith987: Rich people &amp; politicians will still be able to get get abortions when ever they want them... \n",
      "\n",
      "That's not who conserva…\n",
      "\n",
      "ebeh: RT @monaeltahawy: I have had two abortions. I did not want to have children. I was not raped. I was not sick. The pregnancies did not threa…\n",
      "\n",
      "iam_LT1: Watch: #Alcohosi #Pelosi Gives Bizarre Response to #RoeVsWade Question, Calls SCOTUS Leak 'Fake' Opinion… https://t.co/KSEW3dh5K9\n",
      "\n",
      "thenaijavixen: 📣 New Podcast! \"Season 5 Episode 3: Being a Superwoman is NOT Goals!\" on @Spreaker #abortionrights #abortions… https://t.co/YpBrvc4ppj\n",
      "\n",
      "angetarantula: Ladies, you can't get a Republican man to put on a #mask, to save a life, without whining and bleating. You think y… https://t.co/m6ABifuGzv\n",
      "\n",
      "SallyBiddulph: RT @DemsKeys: We will stand together and stand our ground.\n",
      "\n",
      "#RoeVsWade \n",
      " https://t.co/ZnipdORvwM\n",
      "\n",
      "podom1800: RT @VegasVisions: Pssst. Ladies. Protesting not your cup of tea? Kick up your heels 👠 Relax. Learn from Iceland. #RoeVWade #RoeVWadeprotest…\n",
      "\n",
      "Lalaej: RT @SadieMaeTN: 🔹Amy Coney Barrett &amp; Samuel Alito references adoption as a reason for overturning #RoeVsWade, using the phrase “domestic su…\n",
      "\n",
      "ridley48A: RT @SadieMaeTN: 🔹Amy Coney Barrett &amp; Samuel Alito references adoption as a reason for overturning #RoeVsWade, using the phrase “domestic su…\n",
      "\n",
      "wokea55deadhead: RT @VegasVisions: Pssst. Ladies. Protesting not your cup of tea? Kick up your heels 👠 Relax. Learn from Iceland. #RoeVWade #RoeVWadeprotest…\n",
      "\n",
      "ResisterNell: RT @SadieMaeTN: 🔹Amy Coney Barrett &amp; Samuel Alito references adoption as a reason for overturning #RoeVsWade, using the phrase “domestic su…\n",
      "\n",
      "AnthonyLeeVoice: @DeeTwoCents @kurtbardella With the overturn of #RoeVsWade, the GOP is hellbent on making abortion forever illegal… https://t.co/VcvJ0qFZgp\n",
      "\n",
      "scross1141: RT @MuellerSheWrote: No, codifying Roe will probably not pass the senate, but that slim majority we worked so hard to attain will allow Dem…\n",
      "\n",
      "radioactve: RT @stephpcrogers: My choice MY Body #RoeVsWade #RoeVWadeprotest #MyBodyMyChoice #MyBodyMyRights #WomensRights https://t.co/4LTAnmI79A\n",
      "\n",
      "dwayneramirez7: Before it’s too late.\n",
      "\n",
      "#Election2022 #RoeVsWade https://t.co/5IJCSNpRac\n",
      "\n",
      "LivWellFeelWell: RT @VegasVisions: Pssst. Ladies. Protesting not your cup of tea? Kick up your heels 👠 Relax. Learn from Iceland. #RoeVWade #RoeVWadeprotest…\n",
      "\n",
      "MSTRUDYNICOLE: RT @VegasVisions: #RoeVWadeprotest Protest. It's your RIGHT. They don't call it the FIRST Amendment for nothing. #RoeVsWade https://t.co/EZ…\n",
      "\n",
      "SushiTheWolf: #RoeVWadeprotest \n",
      "\n",
      "#RoeVsWade \n",
      "\n",
      "ROE V WADE MUST STAND. https://t.co/xFyr4j8qsa\n",
      "\n",
      "Torilv13: @listentofrogs We agree on more than we disagree, people just can't be civil long enough to really talk to each other. #RoeVsWade\n",
      "\n",
      "cchexcsechotmai: RT @SadieMaeTN: 🔹Amy Coney Barrett &amp; Samuel Alito references adoption as a reason for overturning #RoeVsWade, using the phrase “domestic su…\n",
      "\n",
      "MbBronte: RT @KimsMom3: SNL Weekend Update got it right as usual. \n",
      "\n",
      "“Happy Mother’s Day to all the moms, whether you wanted to be one or not.”\n",
      "#RoeVs…\n",
      "\n",
      "ClipPolitics: Not your body?\n",
      "Not your choice?\n",
      "Your body is mine and you’re having my baby?\n",
      "\n",
      "This is some real little dick energy… https://t.co/jRCRV28yjP\n",
      "\n",
      "Mehetia1: RT @EdgyLsx: Quand il s'agit de l' #ivermectine pour cheval dans le cadre du #COVID19, on ne peut pas en prendre.\n",
      "Quand il s'agit du mispro…\n",
      "\n",
      "CatDJ: RT @SerenaGoerz: My daughter will NOT grow up in a country with less rights than me! #RoeVsWade #GOPWarOnWomen #AbortionIsHealthcare #MyBod…\n",
      "\n",
      "Brigittemaslon1: RT @VegasVisions: Pssst. Ladies. Protesting not your cup of tea? Kick up your heels 👠 Relax. Learn from Iceland. #RoeVWade #RoeVWadeprotest…\n",
      "\n",
      "prtculr: RT @LeftwardSwing: New book just dropped! 📕\n",
      "#RoeVWade #RoeVsWade https://t.co/Phe7u4cPrg\n",
      "\n",
      "lookininfo: RT @AliciaSmith987: Rich people &amp; politicians will still be able to get get abortions when ever they want them... \n",
      "\n",
      "That's not who conserva…\n",
      "\n",
      "Bluemushroom44: RT @EdgyLsx: Quand il s'agit de l' #ivermectine pour cheval dans le cadre du #COVID19, on ne peut pas en prendre.\n",
      "Quand il s'agit du mispro…\n",
      "\n",
      "auntmaggiep: RT @SadieMaeTN: 🔹Amy Coney Barrett &amp; Samuel Alito references adoption as a reason for overturning #RoeVsWade, using the phrase “domestic su…\n",
      "\n",
      "papijones4: RT @AliciaSmith987: Rich people &amp; politicians will still be able to get get abortions when ever they want them... \n",
      "\n",
      "That's not who conserva…\n",
      "\n",
      "necromancer4444: What do you think the top 5 changes will be if #GOP takes a trifecta in 2024...\n",
      "\n",
      "Abortion - gone (if not before)\n",
      "Co… https://t.co/Rn583CNghd\n",
      "\n",
      "QuantumBurner: RT @AliciaSmith987: Rich people &amp; politicians will still be able to get get abortions when ever they want them... \n",
      "\n",
      "That's not who conserva…\n",
      "\n",
      "Lindaforfamily: RT @TyeAryeh: So will rapists be put to death? Can the woman murder the assailant once neutralized? Can a witness murder the assailant?  Ca…\n",
      "\n",
      "Epowers100: RT @drjackrasmus: #RoeVsWade All this elite right wing talk creating markets for infants reveals how morally bankrupt US is becoming and ho…\n",
      "\n",
      "Antiracist_Adam: RT @march4progress: Workers should always be in the streets. #GeneralStrike #RoeVsWade #GeneralStrikeForReproductiveRights https://t.co/9pP…\n",
      "\n",
      "indridbold: RT @VegasVisions: Pssst. Ladies. Protesting not your cup of tea? Kick up your heels 👠 Relax. Learn from Iceland. #RoeVWade #RoeVWadeprotest…\n",
      "\n",
      "sdbees1953: RT @Getyourfoxyback: WHAT WILL WE TELL OUR DAUGHTERS!? (please follow me and share my memes to get our message out) #abortionrights #GOPHan…\n",
      "\n",
      "MSTRUDYNICOLE: RT @AliciaSmith987: Rich people &amp; politicians will still be able to get get abortions when ever they want them... \n",
      "\n",
      "That's not who conserva…\n",
      "\n",
      "Desotapop: RT @LeftwardSwing: New book just dropped! 📕\n",
      "#RoeVWade #RoeVsWade https://t.co/Phe7u4cPrg\n",
      "\n",
      "s_gutarra: #RoeVWade #RoeVsWade #RBG #abortionrights #MyBodyMyChoice\n",
      "#WomensRightsAreHumanRights  #handmaidstale https://t.co/Qd1aaOcd43\n",
      "\n",
      "latstetter: RT @LeftwardSwing: New book just dropped! 📕\n",
      "#RoeVWade #RoeVsWade https://t.co/Phe7u4cPrg\n",
      "\n",
      "Bridgetfollower: RT @Wlf1Zen: @thekjohnston I literally just saw this and couldn’t love it more, and it’s from a man, a smart man! #RoeVsWade #SupremeCourt…\n",
      "\n",
      "RichVee1: Of course anti-vax conservatives are anti-RoevsWade. They're all a bunch of incoherent, illogical hypocrites!… https://t.co/ot8f1Sd9rs\n",
      "\n",
      "TinaSmi43212544: Preserve the white race by any means necessary 🤔\n",
      "#breakingnews #RoeVsWade \n",
      "#Whitebabies https://t.co/ZG3QP4Si2h\n",
      "\n",
      "grisette131: RT @EdgyLsx: Quand il s'agit de l' #ivermectine pour cheval dans le cadre du #COVID19, on ne peut pas en prendre.\n",
      "Quand il s'agit du mispro…\n",
      "\n",
      "dilywy: RT @VegasVisions: Pssst. Ladies. Protesting not your cup of tea? Kick up your heels 👠 Relax. Learn from Iceland. #RoeVWade #RoeVWadeprotest…\n",
      "\n",
      "liberaltrucker: #Roe #RoeVsWade \n",
      "#RoeOverturned \n",
      "#VoteBlueIn2022 \n",
      "#VoteWhileYouStillCan https://t.co/20xe0SG2hL\n",
      "\n",
      "KIM510: RT @jlsfo1: We’re still waiting for public comment on this @FDNY.\n",
      "Should women feel safe calling 911 when #Fdny believes “your body is mine…\n",
      "\n",
      "direitoaoaborto: RT @docsforchoiceBR: \"As mulheres mais ricas desses estados não terão problema algum em pegar um voo e fazer o procedimento em uma clínica…\n",
      "\n",
      "ShariFreeWill: RT @VegasVisions: Pssst. Ladies. Protesting not your cup of tea? Kick up your heels 👠 Relax. Learn from Iceland. #RoeVWade #RoeVWadeprotest…\n",
      "\n",
      "GodDBestAvenger: #God got all of this with the #RoevsWade happiness for some and madness for others in His hands. He knew the leak w… https://t.co/AWCqrFZ6D7\n",
      "\n",
      "Dark_Puck: RT @heyMAKWA: LIBERALS, DEMOCRATS, AND PEOPLE WHO CONSIDER THEMSELVES \"LEFTISTS\" OF ANY TYPE:\n",
      "\n",
      "STOP TELLING VULNERABLE PEOPLE TO MOVE AWAY…\n",
      "\n",
      "CrayKain: RT @stephpcrogers: My choice MY Body #RoeVsWade #RoeVWadeprotest #MyBodyMyChoice #MyBodyMyRights #WomensRights https://t.co/4LTAnmI79A\n",
      "\n",
      "arunningriot: a) these were peaceful protests. b) we have a constitutional right to protest. c) our lives &amp; privacy are at stake.… https://t.co/IKVaJyoJ61\n",
      "\n",
      "jfitchsr52: RT @AliciaSmith987: Rich people &amp; politicians will still be able to get get abortions when ever they want them... \n",
      "\n",
      "That's not who conserva…\n",
      "\n",
      "CrayKain: RT @VegasVisions: Pssst. Ladies. Protesting not your cup of tea? Kick up your heels 👠 Relax. Learn from Iceland. #RoeVWade #RoeVWadeprotest…\n",
      "\n",
      "Catwomanlives: RT @Catwomanlives: Finally! They should have condemned going to #SCOTUS homes and all violence to begin with! #RoeVsWade\n",
      "President Biden 's…\n",
      "\n",
      "iamoutofideas12: RT @MsEntropy: Groypers aren’t just taunting women at #RoeVWadeprotest here. \n",
      "\n",
      "Rape / pregnancy / birth is a tool of war and political goal…\n",
      "\n",
      "QOFE7: RT @VegasVisions: Pssst. Ladies. Protesting not your cup of tea? Kick up your heels 👠 Relax. Learn from Iceland. #RoeVWade #RoeVWadeprotest…\n",
      "\n",
      "cxjaidenn: RT @stephpcrogers: My choice MY Body #RoeVsWade #RoeVWadeprotest #MyBodyMyChoice #MyBodyMyRights #WomensRights https://t.co/4LTAnmI79A\n",
      "\n",
      "SeanPaige: Liberals: \"My body, my choice! *\n",
      "\n",
      "Liberals Again:  * Except in a \"medical emergency,\" when your body becomes govern… https://t.co/XfJhAxILbc\n",
      "\n",
      "mercherolvaag: RT @AliciaSmith987: Rich people &amp; politicians will still be able to get get abortions when ever they want them... \n",
      "\n",
      "That's not who conserva…\n",
      "\n",
      "Catwomanlives: Finally! They should have condemned going to #SCOTUS homes and all violence to begin with! #RoeVsWade\n",
      "President Bid… https://t.co/E91zvAjQye\n",
      "\n",
      "lizbordenn: RT @VegasVisions: Pssst. Ladies. Protesting not your cup of tea? Kick up your heels 👠 Relax. Learn from Iceland. #RoeVWade #RoeVWadeprotest…\n",
      "\n",
      "LuisJon59285625: RT @EdgyLsx: Quand il s'agit de l' #ivermectine pour cheval dans le cadre du #COVID19, on ne peut pas en prendre.\n",
      "Quand il s'agit du mispro…\n",
      "\n",
      "eDiscMatters: RT @VegasVisions: Pssst. Ladies. Protesting not your cup of tea? Kick up your heels 👠 Relax. Learn from Iceland. #RoeVWade #RoeVWadeprotest…\n",
      "\n",
      "liberaltrucker: RT @AliciaSmith987: Rich people &amp; politicians will still be able to get get abortions when ever they want them... \n",
      "\n",
      "That's not who conserva…\n",
      "\n",
      "QuantumBurner: RT @stephpcrogers: My choice MY Body #RoeVsWade #RoeVWadeprotest #MyBodyMyChoice #MyBodyMyRights #WomensRights https://t.co/4LTAnmI79A\n",
      "\n",
      "JohanMcCurdy: RT @eepreylove: \"By saying the right to privacy isn’t in the 14th Amendment, that puts birth control squarely at issue, that puts private s…\n",
      "\n",
      "ShampooMarilyn: Cringeworthy 😖 #MyBodyMyChoice #MyBodyMyRights #BachelorNation #RoeVsWade https://t.co/MhEKXSZCIV\n",
      "\n",
      "NYchamps27: RT @SadieMaeTN: 🔹Amy Coney Barrett &amp; Samuel Alito references adoption as a reason for overturning #RoeVsWade, using the phrase “domestic su…\n",
      "\n",
      "OilySink: Since it apparently still needs to be said in 2022, Women’s bodies are their own fuckin business. #RoeVsWade… https://t.co/rmm6rkyMaJ\n",
      "\n",
      "Gorvaz81: RT @VegasVisions: Pssst. Ladies. Protesting not your cup of tea? Kick up your heels 👠 Relax. Learn from Iceland. #RoeVWade #RoeVWadeprotest…\n",
      "\n",
      "BwestonFLR: RT @EdgyLsx: Quand il s'agit de l' #ivermectine pour cheval dans le cadre du #COVID19, on ne peut pas en prendre.\n",
      "Quand il s'agit du mispro…\n",
      "\n",
      "bettyannie8: RT @stephpcrogers: My choice MY Body #RoeVsWade #RoeVWadeprotest #MyBodyMyChoice #MyBodyMyRights #WomensRights https://t.co/4LTAnmI79A\n",
      "\n",
      "dupont_noel: RT @EdgyLsx: Quand il s'agit de l' #ivermectine pour cheval dans le cadre du #COVID19, on ne peut pas en prendre.\n",
      "Quand il s'agit du mispro…\n",
      "\n"
     ]
    }
   ],
   "source": [
    "def print_tweets(tweets):\n",
    "    for tweet in tweets:\n",
    "        print(f'{tweet.user.screen_name}:', end=' ')\n",
    "        print(f'{tweet.text}\\n')\n",
    "\n",
    "print_tweets(tweets)"
   ]
  },
  {
   "cell_type": "markdown",
   "id": "12adda88",
   "metadata": {},
   "source": [
    "# Sentiment analysis on these tweets using Textblob's analyzer"
   ]
  },
  {
   "cell_type": "code",
   "execution_count": 7,
   "id": "13062a71",
   "metadata": {},
   "outputs": [],
   "source": [
    "from textblob import TextBlob\n",
    "\n",
    "negative = 0\n",
    "positive = 0\n",
    "nuetral = 0\n",
    "polarity = 0\n",
    "\n",
    "for tweet in tweets:\n",
    "    analysis = TextBlob(tweet.text)\n",
    "    polarity += analysis.sentiment.polarity\n",
    "    \n",
    "    if(analysis.sentiment.polarity == 0):\n",
    "        nuetral += 1\n",
    "    if(analysis.sentiment.polarity < 0):\n",
    "        negative += 1\n",
    "    if(analysis.sentiment.polarity > 0):\n",
    "        positive += 1\n",
    "        \n",
    "#positive = (positive / 250)\n",
    "#negative = (negative / 250)\n",
    "#nuetral = (nuetral / 250)"
   ]
  },
  {
   "cell_type": "code",
   "execution_count": 8,
   "id": "cda93a61",
   "metadata": {},
   "outputs": [
    {
     "name": "stdout",
     "output_type": "stream",
     "text": [
      "The number of positive tweets was :  29\n"
     ]
    }
   ],
   "source": [
    "print(\"The number of positive tweets was : \",positive)"
   ]
  },
  {
   "cell_type": "code",
   "execution_count": 9,
   "id": "ea65c10b",
   "metadata": {},
   "outputs": [
    {
     "name": "stdout",
     "output_type": "stream",
     "text": [
      "The number of negative tweets was :  8\n"
     ]
    }
   ],
   "source": [
    "print(\"The number of negative tweets was : \",negative)"
   ]
  },
  {
   "cell_type": "code",
   "execution_count": 10,
   "id": "4503c05c",
   "metadata": {},
   "outputs": [
    {
     "name": "stdout",
     "output_type": "stream",
     "text": [
      "The number of nuetral tweets was :  63\n"
     ]
    }
   ],
   "source": [
    "print(\"The number of nuetral tweets was : \",nuetral)"
   ]
  },
  {
   "cell_type": "code",
   "execution_count": 11,
   "id": "51788bdc",
   "metadata": {},
   "outputs": [],
   "source": [
    "import matplotlib.pyplot as plt\n",
    "sentiment_titles = ['Positive','Negative','Nuetral']\n",
    "sentiments = [positive,negative,nuetral]"
   ]
  },
  {
   "cell_type": "code",
   "execution_count": 20,
   "id": "f8abea91",
   "metadata": {},
   "outputs": [
    {
     "data": {
      "image/png": "[encoded data removed]",
      "text/plain": [
       "<Figure size 432x288 with 1 Axes>"
      ]
     },
     "metadata": {},
     "output_type": "display_data"
    }
   ],
   "source": [
    "colors = ['#FFFF00', '#ADFF2F', '#FFA500']\n",
    "plt.pie(sentiments, colors = colors, labels = sentiment_titles, autopct =\"%1.1f%%\",pctdistance = 0.85) # formatting of graph with %'s'\n",
    "\n",
    "center_circle = plt.Circle((0, 0),0.70,fc='white') # creates circle centered at the origin with white color\n",
    "fig = plt.gcf()\n",
    "\n",
    "fig.gca().add_artist(center_circle) # adds circle\n",
    "\n",
    "plt.title(\"Donut Chart on UNCLEANED tweets and their sentiment from tetxblob on the Roe vs. Wade trial\") # title\n",
    "\n",
    "plt.show()"
   ]
  },
  {
   "cell_type": "markdown",
   "id": "bbaa9237",
   "metadata": {},
   "source": [
    "# Sentiment analysis on the same tweets but using Naive Bayes Analyzer"
   ]
  },
  {
   "cell_type": "code",
   "execution_count": 13,
   "id": "093a8c7f",
   "metadata": {
    "scrolled": true
   },
   "outputs": [
    {
     "name": "stdout",
     "output_type": "stream",
     "text": [
      "The number of positive tweets was:  78\n",
      "The number of negative tweets was:  22\n"
     ]
    }
   ],
   "source": [
    "from textblob.sentiments import NaiveBayesAnalyzer\n",
    "\n",
    "positive = 0 # intiliaze counter variables\n",
    "negative = 0\n",
    "\n",
    "for tweet in tweets:\n",
    "    analysis = TextBlob(tweet.text,analyzer=NaiveBayesAnalyzer())\n",
    "    \n",
    "    if(analysis.sentiment.classification == 'pos'):\n",
    "        positive += 1\n",
    "        \n",
    "    if(analysis.sentiment.classification == 'neg'):\n",
    "        negative += 1\n",
    "        \n",
    "print(\"The number of positive tweets was: \" ,positive)\n",
    "print(\"The number of negative tweets was: \" ,negative)"
   ]
  },
  {
   "cell_type": "code",
   "execution_count": 14,
   "id": "f3d391e7",
   "metadata": {},
   "outputs": [],
   "source": [
    "sentiment_titles =['positive','negative']# to titles for graph\n",
    "sentiments =[positive,negative]# to hold values, index of these two lists must be matching\n",
    "colors = ['#FFFF00', '#ADFF2F'] # colors for graph RGB scaled id's"
   ]
  },
  {
   "cell_type": "code",
   "execution_count": 15,
   "id": "96939ccf",
   "metadata": {},
   "outputs": [
    {
     "data": {
      "image/png": "[encoded data removed]",
      "text/plain": [
       "<Figure size 432x288 with 1 Axes>"
      ]
     },
     "metadata": {},
     "output_type": "display_data"
    }
   ],
   "source": [
    "plt.pie(sentiments, colors = colors, labels = sentiment_titles, autopct =\"%1.1f%%\",pctdistance = 0.85) # formatting with percantages showing on graph\n",
    "\n",
    "center_circle = plt.Circle((0, 0),0.70,fc='white') # origin at 0,0 size 0.7 and white color\n",
    "fig = plt.gcf()\n",
    "\n",
    "fig.gca().add_artist(center_circle) # add circle\n",
    "\n",
    "plt.title(\"Donut Chart on uncleaned tweets and their sentiment from Naive Bayes Analyzer on the Roe vs. Wade trial\") # title\n",
    "\n",
    "plt.show()"
   ]
  },
  {
   "cell_type": "markdown",
   "id": "26eec8ca",
   "metadata": {},
   "source": [
    "# Comparison's to the different NLP's\n",
    "\n",
    "- Textblob and NB(Naive Bayes) had a similiar reading on negative sentiment\n",
    "\n",
    "- Textblob incorporates a nuetral option while NB does not, I think this is a little more telling because there are going to be tweets that just explain the situation, not neccesarily be positive or negative about the subject"
   ]
  },
  {
   "cell_type": "markdown",
   "id": "30910770",
   "metadata": {},
   "source": [
    "# Clean the tweets and re-run the sentiment analysis to look for discepencies"
   ]
  },
  {
   "cell_type": "code",
   "execution_count": 16,
   "id": "63ec9788",
   "metadata": {
    "scrolled": true
   },
   "outputs": [
    {
     "name": "stdout",
     "output_type": "stream",
     "text": [
      "The number of positive tweets was : 29 \n",
      "The number of negative tweets was : 8 \n",
      "The number of nuetral tweets was: 63\n"
     ]
    }
   ],
   "source": [
    "import re\n",
    "\n",
    "negative = 0 # initliaze all counters needed\n",
    "positive = 0\n",
    "nuetral = 0\n",
    "polarity = 0\n",
    "\n",
    "for tweet in tweets:\n",
    "    tweet_text = tweet.text\n",
    "    tweet_text = re.sub(\"@[A-Za-z0-9_]+\",\"\", tweet_text) # get rid of mentions\n",
    "    tweet_text = re.sub(\"#[A-Za-z0-9_]+\",\"\", tweet_text) # get rid of hashtags\n",
    "    tweet_text = re.sub(r\"http\\S+\", \"\", tweet_text) # get rid of links\n",
    "    tweet_text = re.sub(r\"www.\\S+\", \"\", tweet_text) # get rid of links\n",
    "    \n",
    "    \n",
    "    analysis = TextBlob(tweet_text)\n",
    "    polarity += analysis.sentiment.polarity\n",
    "    \n",
    "    if(analysis.sentiment.polarity == 0):\n",
    "        nuetral += 1\n",
    "    if(analysis.sentiment.polarity < 0):\n",
    "        negative += 1\n",
    "    if(analysis.sentiment.polarity > 0):\n",
    "        positive += 1\n",
    "        \n",
    "print(\"The number of positive tweets was :\",positive,'\\nThe number of negative tweets was :',negative,'\\nThe number of nuetral tweets was:',nuetral)"
   ]
  },
  {
   "cell_type": "code",
   "execution_count": 45,
   "id": "6c99b623",
   "metadata": {},
   "outputs": [],
   "source": [
    "sentiment_titles = ['Positive','Negative','Nuetral'] # to titles for graph \n",
    "sentiments = [positive,negative,nuetral] # to hold values, index of these two lists must be matching"
   ]
  },
  {
   "cell_type": "code",
   "execution_count": 19,
   "id": "0f87148b",
   "metadata": {},
   "outputs": [
    {
     "data": {
      "image/png": "[encoded data removed]",
      "text/plain": [
       "<Figure size 432x288 with 1 Axes>"
      ]
     },
     "metadata": {},
     "output_type": "display_data"
    }
   ],
   "source": [
    "colors = ['#FFFF00', '#ADFF2F', '#FFA500'] #RGB scale color id's\n",
    "plt.pie(sentiments, colors = colors, labels = sentiment_titles, autopct =\"%1.1f%%\",pctdistance = 0.85) \n",
    "\n",
    "center_circle = plt.Circle((0, 0),0.70,fc='white') # origin at 0,0 size 0.7 and color white\n",
    "fig = plt.gcf()\n",
    "\n",
    "fig.gca().add_artist(center_circle) # add circle to the middle\n",
    "\n",
    "plt.title(\"Donut Chart on CLEANED tweets and their sentiment from tetxblob on the Roe vs. Wade trial\") # title\n",
    "\n",
    "plt.show()"
   ]
  },
  {
   "cell_type": "markdown",
   "id": "c8b01a03",
   "metadata": {},
   "source": [
    "# Results after cleaning tweets\n",
    "After cleaning tweets by removing mentions, hashtags and links, the textblob sentiment analysis had the same exact scores of sentiment on the tweets, I had to run my code a couple of times to get a new stream of tweets and it was still giving the same output"
   ]
  },
  {
   "cell_type": "markdown",
   "id": "48bc784e",
   "metadata": {},
   "source": [
    "# What are the most common words in these tweets?"
   ]
  },
  {
   "cell_type": "code",
   "execution_count": 42,
   "id": "01d6b8af",
   "metadata": {},
   "outputs": [
    {
     "data": {
      "text/plain": [
       "[('RT', 80),\n",
       " ('t', 43),\n",
       " ('your', 43),\n",
       " ('RoeVsWade', 40),\n",
       " ('not', 37),\n",
       " ('s', 35),\n",
       " ('https', 34),\n",
       " ('co', 34),\n",
       " ('to', 32),\n",
       " ('RoeVWadeprotest', 31),\n",
       " ('of', 27),\n",
       " ('a', 27),\n",
       " ('the', 25),\n",
       " ('RoeVWade', 24),\n",
       " ('get', 24),\n",
       " ('amp', 21),\n",
       " ('VegasVisions', 20),\n",
       " ('Ladies', 20),\n",
       " ('up', 20),\n",
       " ('from', 20)]"
      ]
     },
     "execution_count": 42,
     "metadata": {},
     "output_type": "execute_result"
    }
   ],
   "source": [
    "all_words=[] # initliaze list to hold all words\n",
    "\n",
    "for tweet in tweets:\n",
    "    \n",
    "    tweet_text = tweet.text\n",
    "    words = re.findall(r\"[0-9A-Za-z]+\",tweet.text) # create a list of the words in each tweet\n",
    "    \n",
    "    for i in range(len(words)):\n",
    "        all_words.insert(i,words[i]) # insert each tweet's words into the list containing all the words\n",
    "\n",
    "from collections import Counter\n",
    "\n",
    "Counter = Counter(all_words)\n",
    "\n",
    "Counter.most_common(20) # Function in Counter library that prints the 20 most common words and their counts"
   ]
  }
 ],
 "metadata": {
  "kernelspec": {
   "display_name": "Python 3 (ipykernel)",
   "language": "python",
   "name": "python3"
  },
  "language_info": {
   "codemirror_mode": {
    "name": "ipython",
    "version": 3
   },
   "file_extension": ".py",
   "mimetype": "text/x-python",
   "name": "python",
   "nbconvert_exporter": "python",
   "pygments_lexer": "ipython3",
   "version": "3.9.7"
  }
 },
 "nbformat": 4,
 "nbformat_minor": 5
}
